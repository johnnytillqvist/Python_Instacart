{
 "cells": [
  {
   "cell_type": "markdown",
   "id": "aa4cb67d",
   "metadata": {},
   "source": [
    "# 01. Importing libraries"
   ]
  },
  {
   "cell_type": "code",
   "execution_count": 1,
   "id": "b58cf071",
   "metadata": {},
   "outputs": [],
   "source": [
    "# Import libraries\n",
    "\n",
    "import pandas as pd\n",
    "import numpy as np\n",
    "import os"
   ]
  },
  {
   "cell_type": "code",
   "execution_count": null,
   "id": "81af264e",
   "metadata": {},
   "outputs": [],
   "source": [
    "# Python data types"
   ]
  },
  {
   "cell_type": "code",
   "execution_count": 35,
   "id": "1bb272d9",
   "metadata": {},
   "outputs": [
    {
     "name": "stdout",
     "output_type": "stream",
     "text": [
      "100\n",
      "100\n",
      "100\n"
     ]
    }
   ],
   "source": [
    "# Reaching 100\n",
    "\n",
    "#1\n",
    "a = 50\n",
    "b = 50\n",
    "c = a + b\n",
    "print(c)\n",
    "\n",
    "#2\n",
    "a = 1000\n",
    "b = 10000\n",
    "c = 11000\n",
    "d = a + b - c + 100\n",
    "print(d)\n",
    "\n",
    "#3\n",
    "a = 30\n",
    "b = 70\n",
    "print(a + b - 100 + 100)\n"
   ]
  },
  {
   "cell_type": "code",
   "execution_count": 40,
   "id": "f56c7168",
   "metadata": {},
   "outputs": [
    {
     "name": "stdout",
     "output_type": "stream",
     "text": [
      "0.3333333333333333\n",
      "10.286550297649077\n"
     ]
    }
   ],
   "source": [
    "# Floating-point variables\n",
    "\n",
    "#1\n",
    "a = 2.50\n",
    "b = 7.50\n",
    "result = a / b\n",
    "print(result)\n",
    "\n",
    "#2 \n",
    "a = 101.95\n",
    "b = 99.11\n",
    "result = a / b * 10\n",
    "print(result)\n"
   ]
  },
  {
   "cell_type": "code",
   "execution_count": 41,
   "id": "fd4227a2",
   "metadata": {},
   "outputs": [
    {
     "name": "stdout",
     "output_type": "stream",
     "text": [
      "Goodwill\n"
     ]
    }
   ],
   "source": [
    "# Concatenate, short word\n",
    "\n",
    "a = 'Good'\n",
    "b = 'will'\n",
    "print(a + b)\n",
    "\n"
   ]
  },
  {
   "cell_type": "code",
   "execution_count": 42,
   "id": "50d4436b",
   "metadata": {},
   "outputs": [
    {
     "name": "stdout",
     "output_type": "stream",
     "text": [
      "Python was created in the late 1980s by Guido van Rossum and released in 1991. Since then, it has become one of the most popular programming languages in the world, widely used in web development, data analysis, artificial intelligence, and more.\n"
     ]
    }
   ],
   "source": [
    "# 2 short sentences made of separate strings\n",
    "\n",
    "a = 'Python was created in the late 1980s by Guido van Rossum and released in 1991. '\n",
    "b = 'Since then, it has become one of the most popular programming languages in the world, '\n",
    "c = 'widely used in web development, '\n",
    "d = 'data analysis, '\n",
    "e = 'artificial intelligence, '\n",
    "f = 'and more.'\n",
    "result = a + b + c + d + e + f\n",
    "print(result)"
   ]
  },
  {
   "cell_type": "code",
   "execution_count": 45,
   "id": "b6ad9ab4",
   "metadata": {},
   "outputs": [
    {
     "name": "stdout",
     "output_type": "stream",
     "text": [
      "Bonus!Bonus!Bonus!Bonus!Bonus!Bonus!Bonus!Bonus!Bonus!Bonus!Bonus!Bonus!Bonus!Bonus!Bonus!Bonus!Bonus!Bonus!Bonus!Bonus!Bonus!Bonus!Bonus!Bonus!Bonus!Bonus!Bonus!Bonus!Bonus!Bonus!Bonus!Bonus!Bonus!Bonus!Bonus!Bonus!Bonus!Bonus!Bonus!Bonus!Bonus!Bonus!Bonus!Bonus!Bonus!Bonus!Bonus!Bonus!Bonus!Bonus!Bonus!Bonus!Bonus!Bonus!Bonus!Bonus!Bonus!Bonus!Bonus!Bonus!Bonus!Bonus!Bonus!Bonus!Bonus!Bonus!Bonus!Bonus!Bonus!Bonus!Bonus!Bonus!Bonus!Bonus!Bonus!Bonus!Bonus!Bonus!Bonus!Bonus!Bonus!Bonus!Bonus!Bonus!Bonus!Bonus!Bonus!Bonus!Bonus!Bonus!Bonus!Bonus!Bonus!Bonus!Bonus!Bonus!Bonus!Bonus!Bonus!Bonus!\n"
     ]
    }
   ],
   "source": [
    "print ('Bonus!' * 100)"
   ]
  },
  {
   "cell_type": "code",
   "execution_count": null,
   "id": "5163a2a8",
   "metadata": {},
   "outputs": [],
   "source": []
  }
 ],
 "metadata": {
  "kernelspec": {
   "display_name": "Python 3 (ipykernel)",
   "language": "python",
   "name": "python3"
  },
  "language_info": {
   "codemirror_mode": {
    "name": "ipython",
    "version": 3
   },
   "file_extension": ".py",
   "mimetype": "text/x-python",
   "name": "python",
   "nbconvert_exporter": "python",
   "pygments_lexer": "ipython3",
   "version": "3.10.9"
  }
 },
 "nbformat": 4,
 "nbformat_minor": 5
}
