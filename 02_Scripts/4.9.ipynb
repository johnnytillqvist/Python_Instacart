{
 "cells": [
  {
   "cell_type": "markdown",
   "id": "5601944b",
   "metadata": {},
   "source": [
    "# Part 1"
   ]
  },
  {
   "cell_type": "markdown",
   "id": "e2a5fb00",
   "metadata": {},
   "source": [
    "## 1. Download the customer data set and add it to your “Original Data” folder. "
   ]
  },
  {
   "cell_type": "code",
   "execution_count": 2,
   "id": "1aa6b5a2",
   "metadata": {},
   "outputs": [],
   "source": [
    "# Done"
   ]
  },
  {
   "cell_type": "markdown",
   "id": "c0c05c4b",
   "metadata": {},
   "source": [
    "## 2. Create a new notebook in your “Scripts” folder for part 1 of this task."
   ]
  },
  {
   "cell_type": "code",
   "execution_count": null,
   "id": "b78c2adf",
   "metadata": {},
   "outputs": [],
   "source": []
  }
 ],
 "metadata": {
  "kernelspec": {
   "display_name": "Python 3 (ipykernel)",
   "language": "python",
   "name": "python3"
  },
  "language_info": {
   "codemirror_mode": {
    "name": "ipython",
    "version": 3
   },
   "file_extension": ".py",
   "mimetype": "text/x-python",
   "name": "python",
   "nbconvert_exporter": "python",
   "pygments_lexer": "ipython3",
   "version": "3.10.9"
  }
 },
 "nbformat": 4,
 "nbformat_minor": 5
}
